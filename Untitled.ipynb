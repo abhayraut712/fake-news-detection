{
 "cells": [
  {
   "cell_type": "code",
   "execution_count": 134,
   "metadata": {},
   "outputs": [],
   "source": [
    "import requests\n",
    "import bs4"
   ]
  },
  {
   "cell_type": "code",
   "execution_count": 135,
   "metadata": {},
   "outputs": [
    {
     "data": {
      "text/plain": [
       "requests.models.Response"
      ]
     },
     "execution_count": 135,
     "metadata": {},
     "output_type": "execute_result"
    }
   ],
   "source": [
    "#giving the link to scrap\n",
    "res = requests.get('https://kathmandupost.com/')\n",
    "type(res)\n"
   ]
  },
  {
   "cell_type": "code",
   "execution_count": 136,
   "metadata": {},
   "outputs": [],
   "source": [
    "#object of type request\n",
    "#res.text"
   ]
  },
  {
   "cell_type": "code",
   "execution_count": 137,
   "metadata": {},
   "outputs": [
    {
     "data": {
      "text/plain": [
       "bs4.BeautifulSoup"
      ]
     },
     "execution_count": 137,
     "metadata": {},
     "output_type": "execute_result"
    }
   ],
   "source": [
    "#converting request object into beautiful soup object\n",
    "soup = bs4.BeautifulSoup(res.text, 'lxml')\n",
    "type(soup)  #soup is an abject of the class bs4.beautifulsoup"
   ]
  },
  {
   "cell_type": "code",
   "execution_count": 152,
   "metadata": {
    "scrolled": false
   },
   "outputs": [
    {
     "name": "stdout",
     "output_type": "stream",
     "text": [
      "NEWS TITLES\n",
      "Human rights body summons police involved in the killing of Chand cadre\n",
      "25 children killed by floods—and careless construction—in Province 2 over nine days \n",
      "High iron content in drinking water cause for concern in Kankai Municipality\n",
      "‘Political intervention and lack of plans are taking a toll on martial arts’ \n",
      "The collapse of Nepal's higher education system\n",
      "Rediscovering hidden treasures of neglected crops\n",
      "Is hyper-globalisation at a turning point?\n",
      "Getting rid of harmful chemical pesticides\n",
      "Language tests for Nepalis wanting to work in Japan to take place later this year\n",
      "Illiteracy and superstition prevent Prithvipur women from going to hospitals for birth\n",
      "Around 50,000 quake-affected families to be removed from government list of beneficiaries\n",
      "Health ministry plans to run measles vaccination drive in flood-hit districts\n",
      "Meat sales, and price, shoot up despite occurrence of holy month\n",
      "Complexity of computing capital gains hinders implementation of new rule\n",
      "Investment Board says Huaxin Cement Narayani's investment not under threat\n",
      " Limchungbung Rural Municipality in Udayapur declared a crisis zone\n",
      "Red tape’s repercussions: Social Security Allowance finally distributed after nine months in Mugu\n",
      "High iron content in drinking water cause for concern in Kankai Municipality\n",
      "‘Political intervention and lack of plans are taking a toll on martial arts’\n",
      "Ruling party’s latest headache: a kerfuffle over who should lead the school department\n",
      "South Asia is being battered by monsoon floods and these photos show the scale of destruction\n",
      "Nepali winemakers, buoyed by demand, are experimenting and innovating in local vineyards\n",
      "Physically punishing students is ineffective, harmful and illegal but teachers continue to do it\n",
      "A Nepali man’s odyssey from Dang to San Diego\n",
      "\n",
      "\n",
      "\n",
      "NEWS CONTENT\n",
      "Home Ministry has defended the killing, saying security personnel opened fire in self-defence, but family members tell another story. \n",
      "\n",
      "Provincial officials say they are determined to penalise contractors even as more children continue to die. \n",
      "\n",
      "Around 1,200 families in Wards 1 and 2 of the municipality are dependent on groundwater for their water needs. \n",
      "\n",
      "The department, considered important in conducting ideological training of its members, has divided the communist party. \n",
      "\n",
      "Taekwondo ace Deepak Bista says National Sports Council and the government should set their priorities right and invest in the promotion of contact games. \n",
      "\n",
      "Political apathy and policy imperviousness are two major bottlenecks to Nepal's higher education reform. \n",
      "\n",
      "While they sound like a breed that can be obtained through say, genetically modified crops, these future smart foods are actually our traditional crops. \n",
      "\n",
      "The global economic systems of the past all underwent across-the-board transformations every 30 years or so. \n",
      "\n",
      "The Nepal government has been reducing the use of chemical pesticides with various programmes. \n",
      "\n",
      "The quota for Nepali workers is still not decided although the job sector for the first batch has been finalised. \n",
      "\n",
      "Women prefer to give birth at home because they lack awareness on reproductive health. \n",
      "\n",
      "They didn’t sign housing grant agreements within deadline, rebuilding authority says. \n",
      "\n",
      "Outbreak risks of contagious and vector-borne diseases are normally high after floods, according to health officials. \n",
      "\n",
      "Traders said the traditional meat-free month could have been disregarded due to the lunar eclipse. \n",
      "\n",
      "Share investors, brokers and even the regulatory authority have no idea how to implement the government's new policy. \n",
      "\n",
      "The company can still build the cement factory on the private land it acquired earlier, officials say.  \n",
      "\n",
      "The provincial government has agreed to airlift food to floods- and landslides-affected areas. \n",
      "\n",
      "The government allocates a monthly allowance of Rs 400 to children below five years, Rs 1, 000 to single women and people between 60 to 70 years, and Rs 2,000 to people over the age of 70 and to the completely disabled \n",
      "\n",
      "Around 1,200 families in Wards 1 and 2 of the municipality are dependent on groundwater for their water needs. \n",
      "\n",
      "Taekwondo ace Deepak Bista says National Sports Council and the government should set their priorities right and invest in the promotion of contact games. \n",
      "\n",
      "The department, considered important in conducting ideological training of its members, has divided the communist party. \n",
      "\n",
      "Despite a high rejection rate, Nepalis continue to apply for asylum in Europe in large numbers, often choosing perilous paths through the North African country to cross into Europe. \n",
      "\n",
      "Incessant rainfall has lashed the region over the last week, causing floods and landslides... \n",
      "\n",
      "Though most Nepali wines are sweet and fruity, producers are moving towards bold and robus... \n",
      "\n",
      "Many school teachers, and even parents, still believe that physically disciplining student... \n",
      "\n",
      "How a man from the town of Tulsipur set his sights on the United States, risking his life ... \n",
      "\n"
     ]
    }
   ],
   "source": [
    "#scraping contents\n",
    "#newstitle = soup.select('h3')\n",
    "#newscontent = soup.select('p')\n",
    "print (\"NEWS TITLES\")\n",
    "for i in soup.select('h3'):\n",
    "    print (i.text)\n",
    "print(\"\\n\\n\")\n",
    "print(\"NEWS CONTENT\")\n",
    "for j in soup.select('p'):\n",
    "    print(j.text,\"\\n\")\n",
    "#for j in newscontent:\n",
    "#    print(newscontent[j].getText(),\"\\n\")"
   ]
  },
  {
   "cell_type": "code",
   "execution_count": 153,
   "metadata": {
    "scrolled": true
   },
   "outputs": [
    {
     "name": "stdout",
     "output_type": "stream",
     "text": [
      "Enter the title of the news: syringe attack in lalitpur\n",
      "News is fake\n"
     ]
    }
   ],
   "source": [
    "\n",
    "# Program to measure similarity between \n",
    "# news titles using cosine similarity. \n",
    "from nltk.corpus import stopwords \n",
    "from nltk.tokenize import word_tokenize \n",
    "\n",
    "X = input(\"Enter the title of the news: \").lower() \n",
    "# Y = input(\"Enter second string: \").lower() \n",
    "#X =\"I love horror movies\"\n",
    "for i in soup.select('h3'):\n",
    "    Y = i.text\n",
    "    # tokenization \n",
    "    X_list = word_tokenize(X) \n",
    "    Y_list = word_tokenize(Y) \n",
    "\n",
    "    # sw contains the list of stopwords \n",
    "    sw = stopwords.words('english') \n",
    "    l1 =[];l2 =[] \n",
    "\n",
    "    # remove stop words from string \n",
    "    X_set = {w for w in X_list if not w in sw} \n",
    "    Y_set = {w for w in Y_list if not w in sw} \n",
    "\n",
    "    # form a set containing keywords of both strings \n",
    "    rvector = X_set.union(Y_set) \n",
    "    for w in rvector: \n",
    "        if w in X_set: l1.append(1) # create a vector \n",
    "        else: l1.append(0) \n",
    "        if w in Y_set: l2.append(1) \n",
    "        else: l2.append(0) \n",
    "    c = 0\n",
    "\n",
    "    # cosine formula \n",
    "    for i in range(len(rvector)): \n",
    "            c+= l1[i]*l2[i] \n",
    "    cosine = c / float((sum(l1)*sum(l2))**0.5) \n",
    "    \n",
    "    if cosine >= 0.5:\n",
    "        print(\"similarity: \", cosine)\n",
    "        break\n",
    "if cosine >= 0.5:\n",
    "    print(\"News is not fake\")\n",
    "else:\n",
    "    print(\"News is fake\")\n",
    "    \n",
    "\n"
   ]
  },
  {
   "cell_type": "code",
   "execution_count": 151,
   "metadata": {},
   "outputs": [
    {
     "data": {
      "text/html": [
       "<div>\n",
       "<style scoped>\n",
       "    .dataframe tbody tr th:only-of-type {\n",
       "        vertical-align: middle;\n",
       "    }\n",
       "\n",
       "    .dataframe tbody tr th {\n",
       "        vertical-align: top;\n",
       "    }\n",
       "\n",
       "    .dataframe thead th {\n",
       "        text-align: right;\n",
       "    }\n",
       "</style>\n",
       "<table border=\"1\" class=\"dataframe\">\n",
       "  <thead>\n",
       "    <tr style=\"text-align: right;\">\n",
       "      <th></th>\n",
       "      <th>be</th>\n",
       "      <th>chemical</th>\n",
       "      <th>getting</th>\n",
       "      <th>gotten</th>\n",
       "      <th>harmful</th>\n",
       "      <th>of</th>\n",
       "      <th>pesticides</th>\n",
       "      <th>rid</th>\n",
       "      <th>should</th>\n",
       "    </tr>\n",
       "  </thead>\n",
       "  <tbody>\n",
       "    <tr>\n",
       "      <th>X</th>\n",
       "      <td>1</td>\n",
       "      <td>1</td>\n",
       "      <td>0</td>\n",
       "      <td>1</td>\n",
       "      <td>1</td>\n",
       "      <td>1</td>\n",
       "      <td>1</td>\n",
       "      <td>1</td>\n",
       "      <td>1</td>\n",
       "    </tr>\n",
       "    <tr>\n",
       "      <th>Y</th>\n",
       "      <td>0</td>\n",
       "      <td>1</td>\n",
       "      <td>1</td>\n",
       "      <td>0</td>\n",
       "      <td>1</td>\n",
       "      <td>1</td>\n",
       "      <td>1</td>\n",
       "      <td>1</td>\n",
       "      <td>0</td>\n",
       "    </tr>\n",
       "  </tbody>\n",
       "</table>\n",
       "</div>"
      ],
      "text/plain": [
       "   be  chemical  getting  gotten  harmful  of  pesticides  rid  should\n",
       "X   1         1        0       1        1   1           1    1       1\n",
       "Y   0         1        1       0        1   1           1    1       0"
      ]
     },
     "execution_count": 151,
     "metadata": {},
     "output_type": "execute_result"
    }
   ],
   "source": [
    "titles = [X,Y]\n",
    "# Scikit Learn\n",
    "from sklearn.feature_extraction.text import CountVectorizer\n",
    "import pandas as pd\n",
    "\n",
    "# Create the Document Term Matrix\n",
    "count_vectorizer = CountVectorizer(stop_words='english')\n",
    "count_vectorizer = CountVectorizer()\n",
    "sparse_matrix = count_vectorizer.fit_transform(titles)\n",
    "\n",
    "# OPTIONAL: Convert Sparse Matrix to Pandas Dataframe if you want to see the word frequencies.\n",
    "doc_term_matrix = sparse_matrix.todense()\n",
    "df = pd.DataFrame(doc_term_matrix, \n",
    "                  columns=count_vectorizer.get_feature_names(), \n",
    "                  index=['X','Y'])\n",
    "df"
   ]
  },
  {
   "cell_type": "code",
   "execution_count": null,
   "metadata": {},
   "outputs": [],
   "source": []
  }
 ],
 "metadata": {
  "kernelspec": {
   "display_name": "Python 3",
   "language": "python",
   "name": "python3"
  },
  "language_info": {
   "codemirror_mode": {
    "name": "ipython",
    "version": 3
   },
   "file_extension": ".py",
   "mimetype": "text/x-python",
   "name": "python",
   "nbconvert_exporter": "python",
   "pygments_lexer": "ipython3",
   "version": "3.7.1"
  }
 },
 "nbformat": 4,
 "nbformat_minor": 2
}
